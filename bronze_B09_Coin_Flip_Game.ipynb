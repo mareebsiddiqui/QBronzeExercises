{
 "cells": [
  {
   "cell_type": "markdown",
   "metadata": {},
   "source": [
    "<table width=\"100%\"> <tr>\n",
    "        <td  style=\"background-color:#ffffff;\">\n",
    "            <a href=\"https://qsoftware.lu.lv/index.php/qworld/\" target=\"_blank\"><img src=\"..\\images\\qworld.jpg\" width=\"35%\" align=\"left\"> </a></td>\n",
    "        <td style=\"background-color:#ffffff;vertical-align:bottom;text-align:right;\">\n",
    "            prepared by Abuzer Yakaryilmaz (<a href=\"http://qworld.lu.lv/index.php/qlatvia/\" target=\"_blank\">QLatvia</a>)\n",
    "        </td>        \n",
    "</tr></table>"
   ]
  },
  {
   "cell_type": "markdown",
   "metadata": {},
   "source": [
    "<table width=\"100%\"><tr><td style=\"color:#bbbbbb;background-color:#ffffff;font-size:11px;font-style:italic;text-align:right;\">This cell contains some macros. If there is a problem with displaying mathematical formulas, please run this cell to load these macros. </td></tr></table>\n",
    "$ \\newcommand{\\bra}[1]{\\langle #1|} $\n",
    "$ \\newcommand{\\ket}[1]{|#1\\rangle} $\n",
    "$ \\newcommand{\\braket}[2]{\\langle #1|#2\\rangle} $\n",
    "$ \\newcommand{\\dot}[2]{ #1 \\cdot #2} $\n",
    "$ \\newcommand{\\biginner}[2]{\\left\\langle #1,#2\\right\\rangle} $\n",
    "$ \\newcommand{\\mymatrix}[2]{\\left( \\begin{array}{#1} #2\\end{array} \\right)} $\n",
    "$ \\newcommand{\\myvector}[1]{\\mymatrix{c}{#1}} $\n",
    "$ \\newcommand{\\myrvector}[1]{\\mymatrix{r}{#1}} $\n",
    "$ \\newcommand{\\mypar}[1]{\\left( #1 \\right)} $\n",
    "$ \\newcommand{\\mybigpar}[1]{ \\Big( #1 \\Big)} $\n",
    "$ \\newcommand{\\sqrttwo}{\\frac{1}{\\sqrt{2}}} $\n",
    "$ \\newcommand{\\dsqrttwo}{\\dfrac{1}{\\sqrt{2}}} $\n",
    "$ \\newcommand{\\onehalf}{\\frac{1}{2}} $\n",
    "$ \\newcommand{\\donehalf}{\\dfrac{1}{2}} $\n",
    "$ \\newcommand{\\hadamard}{ \\mymatrix{rr}{ \\sqrttwo & \\sqrttwo \\\\ \\sqrttwo & -\\sqrttwo }} $\n",
    "$ \\newcommand{\\vzero}{\\myvector{1\\\\0}} $\n",
    "$ \\newcommand{\\vone}{\\myvector{0\\\\1}} $\n",
    "$ \\newcommand{\\vhadamardzero}{\\myvector{ \\sqrttwo \\\\  \\sqrttwo } } $\n",
    "$ \\newcommand{\\vhadamardone}{ \\myrvector{ \\sqrttwo \\\\ -\\sqrttwo } } $\n",
    "$ \\newcommand{\\myarray}[2]{ \\begin{array}{#1}#2\\end{array}} $\n",
    "$ \\newcommand{\\X}{ \\mymatrix{cc}{0 & 1 \\\\ 1 & 0}  } $\n",
    "$ \\newcommand{\\Z}{ \\mymatrix{rr}{1 & 0 \\\\ 0 & -1}  } $\n",
    "$ \\newcommand{\\Htwo}{ \\mymatrix{rrrr}{ \\frac{1}{2} & \\frac{1}{2} & \\frac{1}{2} & \\frac{1}{2} \\\\ \\frac{1}{2} & -\\frac{1}{2} & \\frac{1}{2} & -\\frac{1}{2} \\\\ \\frac{1}{2} & \\frac{1}{2} & -\\frac{1}{2} & -\\frac{1}{2} \\\\ \\frac{1}{2} & -\\frac{1}{2} & -\\frac{1}{2} & \\frac{1}{2} } } $\n",
    "$ \\newcommand{\\CNOT}{ \\mymatrix{cccc}{1 & 0 & 0 & 0 \\\\ 0 & 1 & 0 & 0 \\\\ 0 & 0 & 0 & 1 \\\\ 0 & 0 & 1 & 0} } $\n",
    "$ \\newcommand{\\norm}[1]{ \\left\\lVert #1 \\right\\rVert } $"
   ]
  },
  {
   "cell_type": "markdown",
   "metadata": {},
   "source": [
    "<h2> A Game with two biased coins </h2>\n",
    "\n",
    "[Watch Lecture](https://youtu.be/k0OJvv7AAgU)\n",
    "\n",
    "Our friend Asja has one euro and one cent. \n",
    "\n",
    "Both coins are biased, and the probabilities of getting heads and tails are as follows:\n",
    "<ul>\n",
    "    <li> one euro: head with probability $ 0.6 $ and tail with probability $ 0.4 $. </li>\n",
    "    <li> one cent: head with probability $ 0.3 $ and tail with probability $ 0.7 $. </li>\n",
    "</ul>\n",
    "\n",
    "Asja flips her coins based on the following <b>protocol</b>: \n",
    "<ol> \n",
    "    <li> whenever she gets a head, she flips one euro; </li>\n",
    "    <li> whenever she gets a tail, she flips one cent; and </li>\n",
    "    <li> she starts with flipping one euro (we assume that she got head from nowhere). </li>\n",
    "</ol>\n",
    "\n",
    "By using a single bit, we summarize all possible transitions of this game as follows:\n",
    "\n",
    "$\n",
    "GameCoins = \\begin{array}{c|cc} & \\mathbf{Head} & \\mathbf{Tail} \\\\ \\hline \\mathbf{Head} & 0.6 & 0.3\\\\  \\mathbf{Tail} & 0.4 & 0.7  \\end{array} = \\begin{array}{c|cc} & \\mathbf{0} & \\mathbf{1} \\\\ \\hline \\mathbf{0} & 0.6 & 0.3 \\\\  \\mathbf{1} & 0.4 & 0.7  \\end{array}\n",
    "$"
   ]
  },
  {
   "cell_type": "markdown",
   "metadata": {},
   "source": [
    "<h3>Task 1: Convince yourself </h3>\n",
    "\n",
    "Please convince yourself about the correctness of transitions given in the table.\n",
    "\n",
    "<i> Remark that there is no difference between getting head from one euro or getting head from one cent.\n",
    "    \n",
    "Therefore, one bit is enough to represent all transitions.\n",
    "</i>"
   ]
  },
  {
   "cell_type": "markdown",
   "metadata": {},
   "source": [
    "<h3> Tracing Asja's three coin tosses </h3>\n",
    "\n",
    "Suppose that Asja <b>secretly</b> tosses her coins based on the defined protocol.\n",
    "\n",
    "By using python, we can calculate the probabilities of Asja getting head and tail after three coin tosses.\n",
    "\n",
    "<i><b>Remark:</b> In the tasks in previous notebook [Coin Flipping](B06_Coin_Flip.ipynb), the ideal ratio is easy to calculate. Besides, we do our experiments and then compare our results with the ideal ratio. \n",
    "\n",
    "Here we will calculate the exact probabilities (the ideal ratio) by using python. (We will not do the experiment.)\n",
    "</i>\n",
    "\n",
    "We present our solution step by step."
   ]
  },
  {
   "cell_type": "code",
   "execution_count": 1,
   "metadata": {},
   "outputs": [
    {
     "name": "stdout",
     "output_type": "stream",
     "text": [
      "the probability of getting head after 3 coin tosses is 0.444\n",
      "the probability of getting tail after 3 coin tosses is 0.556\n"
     ]
    }
   ],
   "source": [
    "#\n",
    "# OUR SOLUTION\n",
    "#\n",
    "\n",
    "# initial case\n",
    "# We assume that the probability of having head is 1 at the beginning,\n",
    "#    because Asja will start with one euro.\n",
    "prob_head = 1\n",
    "prob_tail = 0\n",
    "\n",
    "\n",
    "#\n",
    "# first coin-flip\n",
    "#\n",
    "\n",
    "# the new probability of head is calculated by using the first row \n",
    "new_prob_head = prob_head * 0.6 + prob_tail * 0.3\n",
    "\n",
    "# the new probability of tail is calculated by using the second row \n",
    "new_prob_tail = prob_head * 0.4 + prob_tail * 0.7\n",
    "\n",
    "# update the probabilities\n",
    "prob_head = new_prob_head\n",
    "prob_tail = new_prob_tail\n",
    "\n",
    "#\n",
    "# second coin-flip\n",
    "#\n",
    "# we do the same calculations\n",
    "\n",
    "new_prob_head = prob_head * 0.6 + prob_tail * 0.3\n",
    "new_prob_tail = prob_head * 0.4 + prob_tail * 0.7\n",
    "\n",
    "prob_head = new_prob_head\n",
    "prob_tail = new_prob_tail\n",
    "\n",
    "#\n",
    "# third coin-flip\n",
    "#\n",
    "# we do the same calculations\n",
    "\n",
    "new_prob_head = prob_head * 0.6 + prob_tail * 0.3\n",
    "new_prob_tail = prob_head * 0.4 + prob_tail * 0.7\n",
    "\n",
    "prob_head = new_prob_head\n",
    "prob_tail = new_prob_tail\n",
    "\n",
    "# print prob_head and prob_tail\n",
    "print(\"the probability of getting head after 3 coin tosses is\",round(prob_head,6))\n",
    "print(\"the probability of getting tail after 3 coin tosses is\",round(prob_tail,6))\n"
   ]
  },
  {
   "cell_type": "markdown",
   "metadata": {},
   "source": [
    "<h3> Task 2: Tracing ten biased coin tosses </h3>\n",
    "\n",
    "By using python, calculate the probabilities of Asja getting head and tail after 10 coin tosses.\n",
    "\n",
    "$\n",
    "GameCoins = \\begin{array}{c|cc} & \\mathbf{Head} & \\mathbf{Tail} \\\\ \\hline \\mathbf{Head} & 0.6 & 0.3\\\\  \\mathbf{Tail} & 0.4 & 0.7  \\end{array} = \\begin{array}{c|cc} & \\mathbf{0} & \\mathbf{1} \\\\ \\hline \\mathbf{0} & 0.6 & 0.3 \\\\  \\mathbf{1} & 0.4 & 0.7  \\end{array}\n",
    "$\n",
    "\n",
    "Please use a loop in your solution."
   ]
  },
  {
   "cell_type": "code",
   "execution_count": 4,
   "metadata": {},
   "outputs": [
    {
     "name": "stdout",
     "output_type": "stream",
     "text": [
      "the probability of getting head after 10 coin tosses is 0.428575\n",
      "the probability of getting tail after 10 coin tosses is 0.571425\n"
     ]
    }
   ],
   "source": [
    "prev_prob_head = 1\n",
    "prev_prob_tail = 0\n",
    "\n",
    "prob_head = 0\n",
    "prob_tail = 0\n",
    "for i in range(10):\n",
    "    prob_head = prev_prob_head * 0.6 + prev_prob_tail * 0.3\n",
    "    prob_tail = prev_prob_head * 0.4 + prev_prob_tail * 0.7\n",
    "    \n",
    "    prev_prob_head = prob_head\n",
    "    prev_prob_tail = prob_tail\n",
    "\n",
    "print(\"the probability of getting head after 10 coin tosses is\",round(prob_head,6))\n",
    "print(\"the probability of getting tail after 10 coin tosses is\",round(prob_tail,6))    "
   ]
  },
  {
   "cell_type": "markdown",
   "metadata": {},
   "source": [
    "<a href=\"B09_Coin_Flip_Game_Solutions.ipynb#task2\">click for our solution</a>"
   ]
  },
  {
   "cell_type": "markdown",
   "metadata": {},
   "source": [
    "<h3> Task 3</h3>\n",
    "\n",
    "Repeat Task 2 for 20, 30, and 50 coin tosses."
   ]
  },
  {
   "cell_type": "code",
   "execution_count": 107,
   "metadata": {},
   "outputs": [
    {
     "name": "stdout",
     "output_type": "stream",
     "text": [
      "After 20 tosses: prob_head: 0.428571\n",
      "After 30 tosses: prob_head: 0.428571\n",
      "After 50 tosses: prob_head: 0.428571\n"
     ]
    }
   ],
   "source": [
    "def task2(N):\n",
    "    prev_prob_head = 1\n",
    "    prev_prob_tail = 0\n",
    "\n",
    "    prob_head = 0\n",
    "    prob_tail = 0\n",
    "    for i in range(N):\n",
    "        prob_head = prev_prob_head * 0.6 + prev_prob_tail * 0.3\n",
    "        prob_tail = prev_prob_head * 0.4 + prev_prob_tail * 0.7\n",
    "\n",
    "        prev_prob_head = prob_head\n",
    "        prev_prob_tail = prob_tail\n",
    "    \n",
    "    return {\"prob_head\": prob_head, \"prob_tail\": prob_tail}\n",
    "\n",
    "Ns = [20, 30, 50]\n",
    "task2s = [task2(n) for n in Ns]\n",
    "i = 0\n",
    "for task in task2s:\n",
    "    print(\"After\", Ns[i], \"tosses: prob_head:\",round(task[\"prob_head\"],6))\n",
    "    i+=1"
   ]
  },
  {
   "cell_type": "markdown",
   "metadata": {},
   "source": [
    "<a href=\"B09_Coin_Flip_Game_Solutions.ipynb#task3\">click for our solution</a>"
   ]
  },
  {
   "cell_type": "markdown",
   "metadata": {},
   "source": [
    "<h3> Task 4</h3>\n",
    "\n",
    "Repeat Task 2 for 10, 20, and 50 coin tosses by picking different initial conditions, e.g., \n",
    "    \n",
    "    prob_head = prob_tail = 1/2\n",
    "or\n",
    "    \n",
    "    prob_head = 0 \n",
    "    prob_tail = 1"
   ]
  },
  {
   "cell_type": "code",
   "execution_count": 180,
   "metadata": {},
   "outputs": [
    {
     "name": "stdout",
     "output_type": "stream",
     "text": [
      "After 10 tosses w/ initial conditions [prob_head =  0.5 , prob_tail =  0.5 ]: prob_head:  0.428572\n",
      "After 20 tosses w/ initial conditions [prob_head =  0.5 , prob_tail =  0.5 ]: prob_head:  0.428571\n",
      "After 50 tosses w/ initial conditions [prob_head =  0.5 , prob_tail =  0.5 ]: prob_head:  0.428571\n",
      "\n",
      "After 10 tosses w/ initial conditions [prob_head =  0 , prob_tail =  1 ]: prob_head:  0.428569\n",
      "After 20 tosses w/ initial conditions [prob_head =  0 , prob_tail =  1 ]: prob_head:  0.428571\n",
      "After 50 tosses w/ initial conditions [prob_head =  0 , prob_tail =  1 ]: prob_head:  0.428571\n",
      "\n"
     ]
    }
   ],
   "source": [
    "def task2(N, initial_conditions):\n",
    "    prev_prob_head, prev_prob_tail = initial_conditions\n",
    "        \n",
    "    prob_head = 0\n",
    "    prob_tail = 0\n",
    "    for i in range(N):\n",
    "        prob_head = prev_prob_head * 0.6 + prev_prob_tail * 0.3\n",
    "        prob_tail = prev_prob_head * 0.4 + prev_prob_tail * 0.7\n",
    "\n",
    "        prev_prob_head = prob_head\n",
    "        prev_prob_tail = prob_tail\n",
    "    \n",
    "    return {\"prob_head\": prob_head, \"prob_tail\": prob_tail}\n",
    "\n",
    "Ns = [10, 20, 50]\n",
    "init_conds = [(1/2, 1/2), (0, 1)]\n",
    "task2s = []\n",
    "for cond in init_conds:\n",
    "    for n in Ns:\n",
    "        prob_head, prob_tail = cond\n",
    "        task = task2(n, cond)\n",
    "        print(\"After\", n, \"tosses w/ initial conditions [prob_head = \", prob_head, \", prob_tail = \", prob_tail, \"]: prob_head: \",round(task[\"prob_head\"],6))\n",
    "    print()\n"
   ]
  },
  {
   "cell_type": "markdown",
   "metadata": {},
   "source": [
    "<a href=\"B09_Coin_Flip_Game_Solutions.ipynb#task4\">click for our solution</a>"
   ]
  },
  {
   "cell_type": "markdown",
   "metadata": {},
   "source": [
    "<hr>"
   ]
  },
  {
   "cell_type": "markdown",
   "metadata": {},
   "source": [
    "<h3> Arbitrary transitions for GameCoins [extra]</h3>\n",
    "\n",
    "By changing the bias of each Asja's coin, we can define arbitrary GameCoins.\n",
    "\n",
    "If $ a $ is the probability of getting head for one euro and $ b $ is the probability of getting head for one cent, then we have the following transitions:\n",
    "\n",
    "$\n",
    "GameCoins(a,b) = \\begin{array}{c|cc} & \\mathbf{Head} & \\mathbf{Tail} \\\\ \\hline \\mathbf{Head} & a & b\\\\  \\mathbf{Tail} & 1-a & 1-b  \\end{array} = \\begin{array}{c|cc} & \\mathbf{0} & \\mathbf{1} \\\\ \\hline \\mathbf{0} & a & b \\\\  \\mathbf{1} & 1-a & 1-b  \\end{array}\n",
    "$"
   ]
  },
  {
   "cell_type": "markdown",
   "metadata": {},
   "source": [
    "<h3> Task 5 </h3>\n",
    "\n",
    "Observe that if $ a=1 $ and $ b = 0 $, then it is Identity operator, which does not change the initial state.\n",
    "\n",
    "If $ a=0 $ and $ b=1 $, then it is NOT operator. NOT operator swaps the probabilities of head and tail. If the initial probabilities are not $ 0.5 $ and $ 0.5 $, then the system cannot converge."
   ]
  },
  {
   "cell_type": "code",
   "execution_count": 229,
   "metadata": {},
   "outputs": [],
   "source": [
    "def GameCoins(a, b, N):\n",
    "    prev_prob_head = 1\n",
    "    prev_prob_tail = 0\n",
    "\n",
    "    prob_head = 0\n",
    "    prob_tail = 0\n",
    "    for i in range(N):\n",
    "        prob_head = prev_prob_head * a + prev_prob_tail * b\n",
    "        prob_tail = prev_prob_head * (1-a) + prev_prob_tail * (1-b)\n",
    "\n",
    "        prev_prob_head = prob_head\n",
    "        prev_prob_tail = prob_tail\n",
    "    \n",
    "    return {\"prob_head\": prob_head, \"prob_tail\": prob_tail}"
   ]
  },
  {
   "cell_type": "markdown",
   "metadata": {},
   "source": [
    "<h3> Task 6</h3>\n",
    "\n",
    "Randomly pick the values of $ a $ and $ b $, and then implement Tasks 3 and 4 for $ GameCoins(a,b) $."
   ]
  },
  {
   "cell_type": "code",
   "execution_count": 230,
   "metadata": {},
   "outputs": [
    {
     "name": "stdout",
     "output_type": "stream",
     "text": [
      "a:  0.21016051125918356 , b: 0.7067819061676871\n",
      "\n",
      "After 20 tosses: prob_head: 0.472252\n",
      "After 30 tosses: prob_head: 0.472252\n",
      "After 50 tosses: prob_head: 0.472252\n",
      "\n",
      "After 10 tosses w/ initial conditions [prob_head =  0.5 , prob_tail =  0.5 ]: prob_head:  0.472277\n",
      "After 20 tosses w/ initial conditions [prob_head =  0.5 , prob_tail =  0.5 ]: prob_head:  0.472252\n",
      "After 50 tosses w/ initial conditions [prob_head =  0.5 , prob_tail =  0.5 ]: prob_head:  0.472252\n",
      "\n",
      "After 10 tosses w/ initial conditions [prob_head =  0 , prob_tail =  1 ]: prob_head:  0.471821\n",
      "After 20 tosses w/ initial conditions [prob_head =  0 , prob_tail =  1 ]: prob_head:  0.472251\n",
      "After 50 tosses w/ initial conditions [prob_head =  0 , prob_tail =  1 ]: prob_head:  0.472252\n",
      "\n"
     ]
    }
   ],
   "source": [
    "from random import uniform\n",
    "a = uniform(0, 1)\n",
    "b = uniform(0, 1)\n",
    "\n",
    "print(\"a: \", a, \", b:\", b)\n",
    "\n",
    "print()\n",
    "\n",
    "#Task3\n",
    "Ns = [20, 30, 50]\n",
    "task2s = [GameCoins(a, b, n) for n in Ns]\n",
    "i = 0\n",
    "for task in task2s:\n",
    "    print(\"After\", Ns[i], \"tosses: prob_head:\",round(task[\"prob_head\"],6))\n",
    "    i+=1\n",
    "    \n",
    "print()\n",
    "    \n",
    "#Task4\n",
    "def GameCoins2(a, b, N, initial_conditions):\n",
    "    prev_prob_head, prev_prob_tail = initial_conditions\n",
    "\n",
    "    prob_head = 0\n",
    "    prob_tail = 0\n",
    "    for i in range(N):\n",
    "        prob_head = prev_prob_head * a + prev_prob_tail * b\n",
    "        prob_tail = prev_prob_head * (1-a) + prev_prob_tail * (1-b)\n",
    "\n",
    "        prev_prob_head = prob_head\n",
    "        prev_prob_tail = prob_tail\n",
    "    \n",
    "    return {\"prob_head\": prob_head, \"prob_tail\": prob_tail}\n",
    "\n",
    "Ns = [10, 20, 50]\n",
    "init_conds = [(1/2, 1/2), (0, 1)]\n",
    "task2s = []\n",
    "for cond in init_conds:\n",
    "    for n in Ns:\n",
    "        prob_head, prob_tail = cond\n",
    "        task = GameCoins2(a, b, n, cond)\n",
    "        print(\"After\", n, \"tosses w/ initial conditions [prob_head = \", prob_head, \", prob_tail = \", prob_tail, \"]: prob_head: \",round(task[\"prob_head\"],6))\n",
    "    print()"
   ]
  },
  {
   "cell_type": "markdown",
   "metadata": {},
   "source": [
    "<h3> Task 7</h3>\n",
    "\n",
    "10 times repeat Task 6 and observe whether the system converges in each time."
   ]
  },
  {
   "cell_type": "code",
   "execution_count": 233,
   "metadata": {},
   "outputs": [
    {
     "name": "stdout",
     "output_type": "stream",
     "text": [
      "a:  0.570889852511199 , b: 0.8154999844191941\n",
      "After 20 tosses: prob_head: 0.655225\n",
      "After 30 tosses: prob_head: 0.655225\n",
      "After 50 tosses: prob_head: 0.655225\n"
     ]
    },
    {
     "data": {
      "image/png": "[encoded data removed]",
      "text/plain": [
       "<Figure size 432x288 with 1 Axes>"
      ]
     },
     "metadata": {
      "needs_background": "light"
     },
     "output_type": "display_data"
    },
    {
     "name": "stdout",
     "output_type": "stream",
     "text": [
      "After 10 tosses w/ initial conditions [prob_head =  0.5 , prob_tail =  0.5 ]: prob_head:  0.655225\n",
      "After 20 tosses w/ initial conditions [prob_head =  0.5 , prob_tail =  0.5 ]: prob_head:  0.655225\n",
      "After 50 tosses w/ initial conditions [prob_head =  0.5 , prob_tail =  0.5 ]: prob_head:  0.655225\n"
     ]
    },
    {
     "data": {
      "image/png": "[encoded data removed]",
      "text/plain": [
       "<Figure size 432x288 with 1 Axes>"
      ]
     },
     "metadata": {
      "needs_background": "light"
     },
     "output_type": "display_data"
    },
    {
     "name": "stdout",
     "output_type": "stream",
     "text": [
      "\n",
      "After 10 tosses w/ initial conditions [prob_head =  0 , prob_tail =  1 ]: prob_head:  0.655225\n",
      "After 20 tosses w/ initial conditions [prob_head =  0 , prob_tail =  1 ]: prob_head:  0.655225\n",
      "After 50 tosses w/ initial conditions [prob_head =  0 , prob_tail =  1 ]: prob_head:  0.655225\n"
     ]
    },
    {
     "data": {
      "image/png": "[encoded data removed]",
      "text/plain": [
       "<Figure size 432x288 with 1 Axes>"
      ]
     },
     "metadata": {
      "needs_background": "light"
     },
     "output_type": "display_data"
    },
    {
     "name": "stdout",
     "output_type": "stream",
     "text": [
      "\n"
     ]
    }
   ],
   "source": [
    "from random import uniform\n",
    "a = uniform(0, 1)\n",
    "b = uniform(0, 1)\n",
    "\n",
    "print(\"a: \", a, \", b:\", b)\n",
    "\n",
    "#Task3\n",
    "Ns = [20, 30, 50]\n",
    "task2s = [GameCoins(a, b, n) for n in Ns]\n",
    "errors = []\n",
    "i = 0\n",
    "for task in task2s:\n",
    "    print(\"After\", Ns[i], \"tosses: prob_head:\",round(task[\"prob_head\"],6))\n",
    "    errors.append(abs(a-task[\"prob_head\"]))\n",
    "    i+=1\n",
    "    \n",
    "pyplot.xlabel(\"iterations\")\n",
    "pyplot.ylabel(\"errors\")\n",
    "pyplot.plot(Ns, errors)\n",
    "pyplot.show()\n",
    "\n",
    "#Task4\n",
    "Ns = [10, 20, 50]\n",
    "init_conds = [(1/2, 1/2), (0, 1)]\n",
    "task2s = []\n",
    "for cond in init_conds:\n",
    "    errors = []\n",
    "    for n in Ns:\n",
    "        prob_head, prob_tail = cond\n",
    "        task = GameCoins2(a, b, n, cond)\n",
    "        print(\"After\", n, \"tosses w/ initial conditions [prob_head = \", prob_head, \", prob_tail = \", prob_tail, \"]: prob_head: \",round(task[\"prob_head\"],6))\n",
    "        errors.append(abs(a-task[\"prob_head\"]))\n",
    "    \n",
    "    pyplot.xlabel(\"iterations\")\n",
    "    pyplot.ylabel(\"errors\")\n",
    "    pyplot.plot(Ns, errors)\n",
    "    pyplot.show()\n",
    "    print()"
   ]
  },
  {
   "cell_type": "markdown",
   "metadata": {},
   "source": [
    "<h3>Task 8</h3>\n",
    "\n",
    "We can rewrite arbitrary GameCoins as \n",
    "\n",
    "$  \\begin{array}{c|cc} & \\mathbf{Head} & \\mathbf{Tail} \\\\ \\hline \\mathbf{Head} & 1-y & x\\\\  \\mathbf{Tail} & y & 1-x  \\end{array} = \\begin{array}{c|cc} & \\mathbf{0} & \\mathbf{1} \\\\ \\hline \\mathbf{0} & 1-y & x \\\\  \\mathbf{1} & y & 1-x  \\end{array}.\n",
    "$ \n",
    "\n",
    "We assume that it is neither Identity nor NOT operator. Then, independent of the initial state, the system always converges to \n",
    "\n",
    "$ Pr[\\mbox{\"head\"}] = \\dfrac{x}{x+y} $ and $ Pr[\\mbox{\"tail\"}]=\\dfrac{y}{x+y} $ \n",
    "\n",
    "as the probabilities of getting head and tail, respectively.\n",
    "\n",
    "Observe this fact by checking the results of Task 7."
   ]
  },
  {
   "cell_type": "code",
   "execution_count": 240,
   "metadata": {},
   "outputs": [
    {
     "name": "stdout",
     "output_type": "stream",
     "text": [
      "x:  0.7795717154912942 , y: 0.8536799831361598 , heads_prob:  0.47731266169594544\n",
      "After 20 tosses: prob_head: 0.4773688659577372\n",
      "After 30 tosses: prob_head: 0.477313244513846\n",
      "After 50 tosses: prob_head: 0.4773126617586155\n"
     ]
    },
    {
     "data": {
      "image/png": "[encoded data removed]",
      "text/plain": [
       "<Figure size 432x288 with 1 Axes>"
      ]
     },
     "metadata": {
      "needs_background": "light"
     },
     "output_type": "display_data"
    },
    {
     "name": "stdout",
     "output_type": "stream",
     "text": [
      "After 10 tosses w/ initial conditions [prob_head =  0.5 , prob_tail =  0.5 ]: prob_head:  0.4775479212022009\n",
      "After 20 tosses w/ initial conditions [prob_head =  0.5 , prob_tail =  0.5 ]: prob_head:  0.4773151012520777\n",
      "After 50 tosses w/ initial conditions [prob_head =  0.5 , prob_tail =  0.5 ]: prob_head:  0.47731266169866565\n"
     ]
    },
    {
     "data": {
      "image/png": "[encoded data removed]",
      "text/plain": [
       "<Figure size 432x288 with 1 Axes>"
      ]
     },
     "metadata": {
      "needs_background": "light"
     },
     "output_type": "display_data"
    },
    {
     "name": "stdout",
     "output_type": "stream",
     "text": [
      "\n",
      "After 10 tosses w/ initial conditions [prob_head =  0 , prob_tail =  1 ]: prob_head:  0.47236310174249885\n",
      "After 20 tosses w/ initial conditions [prob_head =  0 , prob_tail =  1 ]: prob_head:  0.4772613365464183\n",
      "After 50 tosses w/ initial conditions [prob_head =  0 , prob_tail =  1 ]: prob_head:  0.4773126616387158\n"
     ]
    },
    {
     "data": {
      "image/png": "[encoded data removed]",
      "text/plain": [
       "<Figure size 432x288 with 1 Axes>"
      ]
     },
     "metadata": {
      "needs_background": "light"
     },
     "output_type": "display_data"
    },
    {
     "name": "stdout",
     "output_type": "stream",
     "text": [
      "\n"
     ]
    }
   ],
   "source": [
    "from random import uniform\n",
    "\n",
    "def GameCoins3(y, x, N):\n",
    "    prev_prob_head = 1\n",
    "    prev_prob_tail = 0\n",
    "\n",
    "    prob_head = 0\n",
    "    prob_tail = 0\n",
    "    for i in range(N):\n",
    "        prob_head = prev_prob_head * (1-y) + prev_prob_tail * x\n",
    "        prob_tail = prev_prob_head * y + prev_prob_tail * (1-x)\n",
    "\n",
    "        prev_prob_head = prob_head\n",
    "        prev_prob_tail = prob_tail\n",
    "    \n",
    "    return {\"prob_head\": prob_head, \"prob_tail\": prob_tail}\n",
    "\n",
    "x = uniform(0, 1)\n",
    "y = uniform(0, 1)\n",
    "\n",
    "heads_prob = x/(x+y)\n",
    "\n",
    "print(\"x: \", x, \", y:\", y, \", heads_prob: \", heads_prob)\n",
    "\n",
    "#Task3\n",
    "Ns = [20, 30, 50]\n",
    "task2s = [GameCoins3(y, x, n) for n in Ns]\n",
    "errors = []\n",
    "i = 0\n",
    "for task in task2s:\n",
    "    print(\"After\", Ns[i], \"tosses: prob_head:\",task[\"prob_head\"])\n",
    "    errors.append(abs(heads_prob-task[\"prob_head\"]))\n",
    "    i+=1\n",
    "    \n",
    "pyplot.xlabel(\"iterations\")\n",
    "pyplot.ylabel(\"errors\")\n",
    "pyplot.plot(Ns, errors)\n",
    "pyplot.show()\n",
    "    \n",
    "#Task4\n",
    "def GameCoins4(y, x, N, initial_conditions):\n",
    "    prev_prob_head, prev_prob_tail = initial_conditions\n",
    "\n",
    "    prob_head = 0\n",
    "    prob_tail = 0\n",
    "    for i in range(N):\n",
    "        prob_head = prev_prob_head * (1-y) + prev_prob_tail * x\n",
    "        prob_tail = prev_prob_head * y + prev_prob_tail * (1-x)\n",
    "\n",
    "        prev_prob_head = prob_head\n",
    "        prev_prob_tail = prob_tail\n",
    "    \n",
    "    return {\"prob_head\": prob_head, \"prob_tail\": prob_tail}\n",
    "\n",
    "Ns = [10, 20, 50]\n",
    "init_conds = [(1/2, 1/2), (0, 1)]\n",
    "task2s = []\n",
    "for cond in init_conds:\n",
    "    errors = []\n",
    "    for n in Ns:\n",
    "        prob_head, prob_tail = cond\n",
    "        task = GameCoins4(y, x, n, cond)\n",
    "        print(\"After\", n, \"tosses w/ initial conditions [prob_head = \", prob_head, \", prob_tail = \", prob_tail, \"]: prob_head: \",task[\"prob_head\"])\n",
    "        errors.append(abs(heads_prob-task[\"prob_head\"]))\n",
    "    \n",
    "    pyplot.xlabel(\"iterations\")\n",
    "    pyplot.ylabel(\"errors\")\n",
    "    pyplot.plot(Ns, errors)\n",
    "    pyplot.show()\n",
    "    print()"
   ]
  },
  {
   "cell_type": "markdown",
   "metadata": {},
   "source": [
    "<h3>Conclusion</h3>\n",
    "<p>In task 7, the errors dont always converge to 0, where as in task 8 they always converge towards 0.</p>"
   ]
  },
  {
   "cell_type": "code",
   "execution_count": null,
   "metadata": {},
   "outputs": [],
   "source": []
  }
 ],
 "metadata": {
  "kernelspec": {
   "display_name": "Python 3",
   "language": "python",
   "name": "python3"
  },
  "language_info": {
   "codemirror_mode": {
    "name": "ipython",
    "version": 3
   },
   "file_extension": ".py",
   "mimetype": "text/x-python",
   "name": "python",
   "nbconvert_exporter": "python",
   "pygments_lexer": "ipython3",
   "version": "3.8.3"
  }
 },
 "nbformat": 4,
 "nbformat_minor": 2
}
